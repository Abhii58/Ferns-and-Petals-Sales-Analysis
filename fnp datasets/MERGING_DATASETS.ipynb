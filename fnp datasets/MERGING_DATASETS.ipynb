{
 "cells": [
  {
   "cell_type": "code",
   "execution_count": 7,
   "id": "32dd1335-ee62-4112-a101-8ec5f830a607",
   "metadata": {},
   "outputs": [
    {
     "name": "stdout",
     "output_type": "stream",
     "text": [
      "saved sucessfully\n"
     ]
    }
   ],
   "source": [
    "import pandas as pd\n",
    "\n",
    "orders_df = pd.read_csv(\"orders.csv\")  \n",
    "products_df = pd.read_csv(\"products.csv\") \n",
    "customers_df = pd.read_csv(\"customers.csv\")   \n",
    "\n",
    "# merge data fields by join operations\n",
    "merged_df = pd.merge(orders_df, products_df[['Product_ID', 'Product_Name']], on='Product_ID', how='left')\n",
    "merged_df = pd.merge(orders_df, products_df[['Product_ID', 'Product_Name', 'Category']], on='Product_ID', how='left')\n",
    "merged_df = pd.merge(orders_df, customers_df[['Customer_ID', 'Name']], on='Customer_ID', how='left')\n",
    "merged_df = pd.merge(orders_df, customers_df[['Customer_ID', 'City']], on='Customer_ID', how='left')\n",
    "merged_df = pd.merge(orders_df, customers_df[['Customer_ID', 'Gender']], on='Customer_ID', how='left')\n",
    "merged_df = pd.merge(orders_df, customers_df[['Customer_ID', 'Address']], on='Customer_ID', how='left')\n",
    "\n",
    "merged_df.to_excel(\"master.xlsx\", index=False)\n",
    "print(\"saved sucessfully\")\n"
   ]
  },
  {
   "cell_type": "code",
   "execution_count": null,
   "id": "f58ebdf1-5c92-4067-936a-eec7dcca597f",
   "metadata": {},
   "outputs": [],
   "source": []
  }
 ],
 "metadata": {
  "kernelspec": {
   "display_name": "Python 3 (ipykernel)",
   "language": "python",
   "name": "python3"
  },
  "language_info": {
   "codemirror_mode": {
    "name": "ipython",
    "version": 3
   },
   "file_extension": ".py",
   "mimetype": "text/x-python",
   "name": "python",
   "nbconvert_exporter": "python",
   "pygments_lexer": "ipython3",
   "version": "3.10.11"
  }
 },
 "nbformat": 4,
 "nbformat_minor": 5
}
